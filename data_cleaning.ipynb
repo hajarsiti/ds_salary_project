{
 "cells": [
  {
   "cell_type": "code",
   "execution_count": 1,
   "id": "ad38bc53",
   "metadata": {
    "scrolled": true
   },
   "outputs": [],
   "source": [
    "import pandas as pd \n",
    "import seaborn as sns"
   ]
  },
  {
   "cell_type": "code",
   "execution_count": 20,
   "id": "7b07f653",
   "metadata": {
    "scrolled": false
   },
   "outputs": [],
   "source": [
    "df = pd.read_csv('glassdoor_DS.csv')\n",
    "\n",
    "#salary cleaning\n",
    "df = df[df['Salary Estimate'] != '-1']\n",
    "salary = df['Salary Estimate'].apply(lambda x: x.split('(')[0])\n",
    "minus_kd= salary.apply(lambda x: x.replace('K','').replace('$',''))\n",
    "\n",
    "#defining min, max and avg columns for the salary\n",
    "df['Min_salary'] = minus_kd.apply(lambda x: int(x.split('-')[0]))\n",
    "df['Max_salary'] = minus_kd.apply(lambda x: int(x.split('-')[1]))\n",
    "df['Avg_salary'] = (df.Min_salary + df.Max_salary) / 2\n",
    "\n",
    "#company name cleaning\n",
    "df['Company_txt'] = df.apply(lambda x: x['Company Name'] if x['Rating'] < 0 else x['Company Name'][:-3], axis = 1 )\n",
    "#the rstrip function is used to remove \\n (specific characters) from the right side of a string\n",
    "df['Company_txt'] = df['Company_txt'].apply(lambda x: x.rstrip('\\n'))\n",
    "\n",
    "\n",
    "#add a state column using the location one\n",
    "\n",
    "df['Job_state'] = df['Location'].apply(lambda x: x.split(',')[0])\n",
    "df['Same state'] = df.apply(lambda x: 1 if x['Location'] == x['Headquarters'] else 0, axis = 1)\n",
    "pd.options.display.max_rows = 1000\n",
    "\n",
    "\n",
    "#add the age of the company\n",
    "df['Age'] = df['Founded'].apply(lambda x: x if x < 1 else 2023 - x)\n",
    "\n",
    "#check if python exists in description\n",
    "df['Python'] = df['Job Description'].apply(lambda x: 1 if 'python' in x.lower() else 0)\n",
    "\n",
    "#check if rstudio exists in description\n",
    "df['R_studio'] = df['Job Description'].apply(lambda x: 1 if 'r studio' in x.lower() or 'r-studio' in x else 0)\n",
    "\n",
    "#check if spark exists in description\n",
    "df['Spark'] = df['Job Description'].apply(lambda x: 1 if 'spark' in x.lower() else 0)\n",
    "\n",
    "#check if aws exists in description\n",
    "df['Aws'] = df['Job Description'].apply(lambda x: 1 if 'aws' in x.lower() else 0)\n",
    "\n",
    "#check if excel exists in description\n",
    "df['Excel'] = df['Job Description'].apply(lambda x: 1 if 'excel' in x.lower() else 0)\n",
    "\n",
    "df_out = df.drop(['index'], axis=1)\n",
    "\n",
    "df_out.to_csv('Salary_data_cleaned.csv', index=False)"
   ]
  },
  {
   "cell_type": "code",
   "execution_count": null,
   "id": "d76f2010",
   "metadata": {},
   "outputs": [],
   "source": []
  }
 ],
 "metadata": {
  "kernelspec": {
   "display_name": "Python 3 (ipykernel)",
   "language": "python",
   "name": "python3"
  },
  "language_info": {
   "codemirror_mode": {
    "name": "ipython",
    "version": 3
   },
   "file_extension": ".py",
   "mimetype": "text/x-python",
   "name": "python",
   "nbconvert_exporter": "python",
   "pygments_lexer": "ipython3",
   "version": "3.11.4"
  }
 },
 "nbformat": 4,
 "nbformat_minor": 5
}
